{
 "cells": [
  {
   "cell_type": "code",
   "execution_count": 1,
   "id": "e7771784",
   "metadata": {},
   "outputs": [
    {
     "data": {
      "text/plain": [
       "3"
      ]
     },
     "execution_count": 1,
     "metadata": {},
     "output_type": "execute_result"
    }
   ],
   "source": [
    "2 + 1"
   ]
  },
  {
   "cell_type": "code",
   "execution_count": 13,
   "id": "1edf92f3",
   "metadata": {
    "scrolled": true
   },
   "outputs": [
    {
     "name": "stdout",
     "output_type": "stream",
     "text": [
      "score:  0.9666666666666667\n"
     ]
    }
   ],
   "source": [
    "from sklearn.model_selection import train_test_split\n",
    "from sklearn.svm import SVC\n",
    "from sklearn.metrics import accuracy_score\n",
    "from sklearn import datasets\n",
    "\n",
    "iris_data = datasets.load_iris()\n",
    "\n",
    "y = iris_data.target\n",
    "x = iris_data.data\n",
    " \n",
    "## separate\n",
    "x_train, x_test, y_train, y_test = train_test_split(x, y,  test_size = 0.2, train_size = 0.8, shuffle = True)\n",
    "\n",
    "clf = SVC()\n",
    "\n",
    "## learning, labeling\n",
    "clf.fit(x_train, y_train)\n",
    "\n",
    "## testing\n",
    "y_pred = clf.predict(x_test)\n",
    "\n",
    "print(\"score: \", accuracy_score(y_pred,  y_test))"
   ]
  },
  {
   "cell_type": "code",
   "execution_count": 30,
   "id": "2603f77b",
   "metadata": {},
   "outputs": [
    {
     "name": "stdout",
     "output_type": "stream",
     "text": [
      "quality\n",
      "3      20\n",
      "4     163\n",
      "5    1457\n",
      "6    2198\n",
      "7     880\n",
      "8     175\n",
      "9       5\n",
      "Name: quality, dtype: int64\n",
      "              precision    recall  f1-score   support\n",
      "\n",
      "           0       0.60      0.18      0.28        33\n",
      "           1       0.94      0.99      0.97       906\n",
      "           2       0.94      0.37      0.53        41\n",
      "\n",
      "    accuracy                           0.94       980\n",
      "   macro avg       0.83      0.51      0.59       980\n",
      "weighted avg       0.93      0.94      0.93       980\n",
      "\n",
      "score =  0.9408163265306122\n"
     ]
    },
    {
     "data": {
      "image/png": "[encoded data removed]",
      "text/plain": [
       "<Figure size 432x288 with 1 Axes>"
      ]
     },
     "metadata": {
      "needs_background": "light"
     },
     "output_type": "display_data"
    }
   ],
   "source": [
    "import pandas as pd\n",
    "from urllib.request import urlretrieve\n",
    "from sklearn.model_selection import train_test_split\n",
    "from sklearn.metrics import accuracy_score\n",
    "from sklearn.metrics import classification_report\n",
    "from sklearn.ensemble import RandomForestClassifier\n",
    "import matplotlib.pyplot as plt\n",
    "\n",
    "wine_csv_url = 'https://archive.ics.uci.edu/ml/machine-learning-databases/wine-quality/winequality-white.csv'\n",
    "savepath = 'sample/winequality-white.csv'\n",
    "urlretrieve(wine_csv_url, savepath)\n",
    "\n",
    "wine_data = pd.read_csv(savepath, sep=\";\", encoding=\"utf-8\")\n",
    "\n",
    "counts = wine_data.groupby('quality')['quality'].count()\n",
    "print(counts)\n",
    "counts.plot()\n",
    "\n",
    "x = wine_data.drop(\"quality\", axis=1)\n",
    "y = wine_data['quality']\n",
    "\n",
    "new_y = []\n",
    "for dy in y:\n",
    "    if dy <= 4:\n",
    "        new_y += [0]\n",
    "    elif dy <= 7:\n",
    "        new_y += [1]\n",
    "    else:\n",
    "        new_y += [2]\n",
    "\n",
    "x_train, x_test, y_train, y_test = train_test_split(x, new_y, test_size=0.2, shuffle=True)\n",
    "model = RandomForestClassifier()\n",
    "model.fit(x_train, y_train)\n",
    "\n",
    "y_pred = model.predict(x_test)\n",
    "print(classification_report(y_test, y_pred))\n",
    "print(\"score = \", accuracy_score(y_test, y_pred))\n"
   ]
  },
  {
   "cell_type": "code",
   "execution_count": 119,
   "id": "5b714d5a",
   "metadata": {},
   "outputs": [
    {
     "name": "stdout",
     "output_type": "stream",
     "text": [
      "0       2011\n",
      "1       2011\n",
      "2       2011\n",
      "3       2011\n",
      "4       2011\n",
      "        ... \n",
      "3649    2021\n",
      "3650    2021\n",
      "3651    2021\n",
      "3652    2021\n",
      "3653    2021\n",
      "Name: 年, Length: 3654, dtype: object\n"
     ]
    }
   ],
   "source": [
    "import pandas as pd\n",
    "from sklearn.model_selection import train_test_split\n",
    "from sklearn.metrics import accuracy_score\n",
    "from sklearn.metrics import classification_report\n",
    "from sklearn.ensemble import RandomForestClassifier\n",
    "import matplotlib.pyplot as plt\n",
    "\n",
    "def read_csv_data(filepath):\n",
    "    csv_data = pd.read_csv(filepath, encoding='Shift-JIS')\n",
    "    formatted_data = csv_data.values[2:]\n",
    "    formatted_data = pd.DataFrame(csv_data.values[2:], columns=['年','月','日','気温','品質','均質'])\n",
    "    print(formatted_data)\n",
    "#     sample_data = csv_data[:5]\n",
    "#     test_data = \n",
    "#     return (1,1)\n",
    "    \n",
    "\n",
    "# def calc_temperature():\n",
    "#     return (1,1)\n",
    "\n",
    "read_csv_data('sample/temperature.csv')\n",
    "\n"
   ]
  }
 ],
 "metadata": {
  "kernelspec": {
   "display_name": "Python 3 (ipykernel)",
   "language": "python",
   "name": "python3"
  },
  "language_info": {
   "codemirror_mode": {
    "name": "ipython",
    "version": 3
   },
   "file_extension": ".py",
   "mimetype": "text/x-python",
   "name": "python",
   "nbconvert_exporter": "python",
   "pygments_lexer": "ipython3",
   "version": "3.9.7"
  }
 },
 "nbformat": 4,
 "nbformat_minor": 5
}
